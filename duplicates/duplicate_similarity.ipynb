{
 "cells": [
  {
   "cell_type": "code",
   "execution_count": 1,
   "metadata": {},
   "outputs": [],
   "source": [
    "import chromadb\n",
    "from datasets import load_dataset\n",
    "from tqdm import tqdm\n",
    "import sys\n",
    "import json\n",
    "from dataset_embeddings import *\n",
    "import yaml\n",
    "import pandas as pd\n",
    "import matplotlib.pyplot as plt\n",
    "\n",
    "tqdm.pandas()\n",
    "sys.path.append(\"../..\")\n",
    "\n",
    "with open(\"../config.yaml\", \"r\") as f:\n",
    "    config = yaml.safe_load(f)\n",
    "RANDOM_SEED = config[\"RANDOM_SEED\"]"
   ]
  },
  {
   "cell_type": "markdown",
   "metadata": {},
   "source": [
    "# Preapre database and dataset"
   ]
  },
  {
   "cell_type": "code",
   "execution_count": 2,
   "metadata": {},
   "outputs": [],
   "source": [
    "# Create database and collections\n",
    "chroma_client = chromadb.PersistentClient(\"db/\")\n",
    "collection = chroma_client.get_or_create_collection(\n",
    "    name=\"goemotions_train_cosine\", metadata={\"hnsw:space\": \"cosine\"}\n",
    ")"
   ]
  },
  {
   "cell_type": "code",
   "execution_count": 3,
   "metadata": {},
   "outputs": [],
   "source": [
    "# read the dataset\n",
    "set_ = \"train\"\n",
    "run_number = 3\n",
    "dataset = load_dataset(\n",
    "    \"go_emotions\", \"simplified\"\n",
    ")\n",
    "dataset.set_format(type=\"pandas\")\n",
    "df = dataset[set_][:]\n",
    "\n",
    "int2label = lambda x: dataset[set_].features[\"labels\"].feature.int2str(x)\n",
    "df[\"labels_text\"] = df[\"labels\"].apply(int2label)"
   ]
  },
  {
   "cell_type": "code",
   "execution_count": 4,
   "metadata": {},
   "outputs": [],
   "source": [
    "# read the new dataset\n",
    "df_new = pd.read_csv(\"../cleaning/run1/train_filtered.csv\")"
   ]
  },
  {
   "cell_type": "markdown",
   "metadata": {},
   "source": [
    "# Get embedddings and create DBs"
   ]
  },
  {
   "cell_type": "code",
   "execution_count": 5,
   "metadata": {},
   "outputs": [
    {
     "name": "stderr",
     "output_type": "stream",
     "text": [
      "/Users/usamaahmed/miniconda3/envs/LEGO/lib/python3.12/site-packages/transformers/tokenization_utils_base.py:1601: FutureWarning: `clean_up_tokenization_spaces` was not set. It will be set to `True` by default. This behavior will be depracted in transformers v4.45, and will be then set to `False` by default. For more details check this issue: https://github.com/huggingface/transformers/issues/31884\n",
      "  warnings.warn(\n",
      "<All keys matched successfully>\n"
     ]
    },
    {
     "name": "stdout",
     "output_type": "stream",
     "text": [
      "model running on mps\n"
     ]
    }
   ],
   "source": [
    "tokenizer, model = init_model()"
   ]
  },
  {
   "cell_type": "code",
   "execution_count": 6,
   "metadata": {},
   "outputs": [
    {
     "name": "stderr",
     "output_type": "stream",
     "text": [
      "100%|██████████| 679/679 [02:42<00:00,  4.19it/s]\n"
     ]
    }
   ],
   "source": [
    "# run embedding model\n",
    "batch_size = 64\n",
    "embeddings = []\n",
    "# iterate through the dataset\n",
    "for i in tqdm(range(0, len(df), batch_size)):\n",
    "    batch = list(df.iloc[i : i + batch_size][\"text\"])\n",
    "    embeddings += (get_text_embeddings(batch, model, tokenizer, batch = True))"
   ]
  },
  {
   "cell_type": "code",
   "execution_count": 11,
   "metadata": {},
   "outputs": [
    {
     "name": "stderr",
     "output_type": "stream",
     "text": [
      "100%|██████████| 43410/43410 [00:50<00:00, 856.94it/s]\n"
     ]
    }
   ],
   "source": [
    "# insert into the database\n",
    "for i in tqdm(range(len(df))):\n",
    "    text = df.iloc[i][\"text\"]\n",
    "    embedding = embeddings[i]\n",
    "    collection.upsert(\n",
    "        ids = [str(i)],\n",
    "        documents = [text],\n",
    "        embeddings = embedding,\n",
    "    )"
   ]
  },
  {
   "cell_type": "markdown",
   "metadata": {},
   "source": [
    "# Extract Duplicates"
   ]
  },
  {
   "cell_type": "code",
   "execution_count": 12,
   "metadata": {},
   "outputs": [
    {
     "name": "stdout",
     "output_type": "stream",
     "text": [
      "Threshold: 0.05\n"
     ]
    },
    {
     "name": "stderr",
     "output_type": "stream",
     "text": [
      "100%|██████████| 43410/43410 [01:47<00:00, 403.12it/s]\n"
     ]
    },
    {
     "name": "stdout",
     "output_type": "stream",
     "text": [
      "Threshold: 0.1\n"
     ]
    },
    {
     "name": "stderr",
     "output_type": "stream",
     "text": [
      "100%|██████████| 43410/43410 [01:52<00:00, 386.79it/s]\n"
     ]
    },
    {
     "name": "stdout",
     "output_type": "stream",
     "text": [
      "Threshold: 0.15\n"
     ]
    },
    {
     "name": "stderr",
     "output_type": "stream",
     "text": [
      "100%|██████████| 43410/43410 [01:53<00:00, 383.04it/s]\n"
     ]
    },
    {
     "name": "stdout",
     "output_type": "stream",
     "text": [
      "Threshold: 0.2\n"
     ]
    },
    {
     "name": "stderr",
     "output_type": "stream",
     "text": [
      "100%|██████████| 43410/43410 [01:51<00:00, 390.25it/s]\n"
     ]
    },
    {
     "name": "stdout",
     "output_type": "stream",
     "text": [
      "Threshold: 0.25\n"
     ]
    },
    {
     "name": "stderr",
     "output_type": "stream",
     "text": [
      "100%|██████████| 43410/43410 [01:47<00:00, 404.78it/s]\n"
     ]
    }
   ],
   "source": [
    "collection_dict = {}\n",
    "thresholds = [0.05, 0.1, 0.15, 0.2, 0.25]\n",
    "for threshold in thresholds:\n",
    "    print(f\"Threshold: {threshold}\")\n",
    "    similars_dict = {}\n",
    "    for i in tqdm(range(len(df))):\n",
    "        results = get_similars(df, collection, idx=i, n_results=5)\n",
    "        distances = [r[\"distance\"] for r in results]\n",
    "        # any distance < 0.15 is considered similar, add it to the similars_dict with key i\n",
    "        results_list = [r[\"idx\"] for r in results[1:] if r[\"distance\"] < threshold]\n",
    "        if results_list:\n",
    "            similars_dict[i] = results_list\n",
    "        collection_dict[threshold] = similars_dict\n",
    "\n",
    "with open(\"duplicates.json\", \"w\") as f:\n",
    "    json.dump(collection_dict, f)"
   ]
  },
  {
   "cell_type": "code",
   "execution_count": 17,
   "metadata": {},
   "outputs": [],
   "source": [
    "# Assuming similar_dicts is your dictionary\n",
    "with open(\"duplicates.json\", \"r\") as f:\n",
    "    collection_dict = json.load(f)"
   ]
  },
  {
   "cell_type": "markdown",
   "metadata": {},
   "source": [
    "# Agreements"
   ]
  },
  {
   "cell_type": "code",
   "execution_count": 18,
   "metadata": {},
   "outputs": [],
   "source": [
    "from itertools import combinations\n",
    "\n",
    "def calculate_agreement(list_of_lists):\n",
    "    # Weight is used since more labels means more chances of overlap\n",
    "    def length_weighted_jaccard_similarity(set1, set2):\n",
    "        intersection = len(set1.intersection(set2))\n",
    "        union = len(set1.union(set2))\n",
    "        jaccard = intersection / union if union else 0\n",
    "        length_weight = min(len(set1), len(set2)) / max(len(set1), len(set2))\n",
    "        return jaccard * length_weight\n",
    "    \n",
    "    # Convert inner lists to sets\n",
    "    sets = [set(inner_list) for inner_list in list_of_lists]\n",
    "    \n",
    "    # Calculate pairwise Length-Weighted Jaccard similarities\n",
    "    pair_similarities = [length_weighted_jaccard_similarity(s1, s2) for s1, s2 in combinations(sets, 2)]\n",
    "    \n",
    "    # Calculate the average similarity\n",
    "    average_similarity = sum(pair_similarities) / len(pair_similarities) if pair_similarities else 0\n",
    "    \n",
    "    return average_similarity"
   ]
  },
  {
   "cell_type": "code",
   "execution_count": 19,
   "metadata": {},
   "outputs": [],
   "source": [
    "def find_agreement(df, column, similars_dict):\n",
    "    keys = list(similars_dict.keys())\n",
    "    agreements = []\n",
    "    for key in keys:\n",
    "        indices = list([key]) + similars_dict[key]\n",
    "        labels = list(df.iloc[indices][column])\n",
    "        agreements.append(calculate_agreement(labels))\n",
    "    avg_agreements = sum(agreements) / len(agreements)\n",
    "    return agreements, avg_agreements"
   ]
  },
  {
   "cell_type": "code",
   "execution_count": 20,
   "metadata": {},
   "outputs": [],
   "source": [
    "def get_examples(index, duplicates_dict, df = df ,df_new = df_new, df_column = \"labels_text\", df_new_column = \"parsed_predictions\"):\n",
    "    index = list(duplicates_dict.keys())[index]\n",
    "    indices = [int(index)] + duplicates_dict[index]\n",
    "    example_text = df.iloc[indices][\"text\"]\n",
    "    example_labels = df.iloc[indices][df_column]\n",
    "    example_new_labels = df_new.iloc[indices][df_new_column]\n",
    "    # convert these dicts into a dataframe\n",
    "    examples = pd.DataFrame({\"text\": example_text, \"labels\": example_labels, \"new_labels\": example_new_labels})\n",
    "    return examples"
   ]
  },
  {
   "cell_type": "code",
   "execution_count": 22,
   "metadata": {},
   "outputs": [
    {
     "name": "stdout",
     "output_type": "stream",
     "text": [
      "              text     labels                 new_labels\n",
      "283     Hi [NAME]!  [neutral]      ['neutral', 'caring']\n",
      "31603   Hi [NAME]!  [neutral]                ['neutral']\n",
      "43261  Hi, [NAME]!  [neutral]  ['neutral', 'excitement']\n",
      "1.0\n",
      "0.5357094226579521\n"
     ]
    }
   ],
   "source": [
    "# Test some example\n",
    "idx = 14\n",
    "print(get_examples(idx, collection_dict[\"0.1\"]))\n",
    "print(calculate_agreement(get_examples(idx, collection_dict[\"0.1\"])[\"labels\"]))\n",
    "print(calculate_agreement(get_examples(idx, collection_dict[\"0.1\"])[\"new_labels\"]))"
   ]
  },
  {
   "cell_type": "code",
   "execution_count": 23,
   "metadata": {},
   "outputs": [],
   "source": [
    "def get_averages(df, column):\n",
    "    averages = {}\n",
    "    agreements_lists = {}\n",
    "    for key in collection_dict.keys():\n",
    "        similars_dict = collection_dict[key]\n",
    "        similars_dict = {int(k): v for k, v in similars_dict.items()}\n",
    "        agreements, avg_agreements = find_agreement(df, column, similars_dict)\n",
    "        averages[key] = avg_agreements\n",
    "        agreements_lists[key] = agreements\n",
    "    return averages, agreements_lists"
   ]
  },
  {
   "cell_type": "code",
   "execution_count": 24,
   "metadata": {},
   "outputs": [],
   "source": [
    "averages_cosine, _ = get_averages(df, \"labels_text\")\n",
    "averages_cosine_new, _ = get_averages(df_new, \"parsed_predictions\")"
   ]
  },
  {
   "cell_type": "code",
   "execution_count": 25,
   "metadata": {},
   "outputs": [
    {
     "data": {
      "text/plain": [
       "<matplotlib.legend.Legend at 0x33375c980>"
      ]
     },
     "execution_count": 25,
     "metadata": {},
     "output_type": "execute_result"
    },
    {
     "data": {
      "image/png": "[encoded data removed]",
      "text/plain": [
       "<Figure size 640x480 with 1 Axes>"
      ]
     },
     "metadata": {},
     "output_type": "display_data"
    }
   ],
   "source": [
    "plt.plot(averages_cosine.keys(), averages_cosine.values(), label = \"Original\", marker = \"s\")\n",
    "plt.plot(averages_cosine_new.keys(), averages_cosine_new.values(), label = \"New\", marker = \"s\")\n",
    "plt.xlabel(\"Distance Threshold\")\n",
    "plt.ylabel(\"Average Agreement Score\")\n",
    "plt.title(\"Cosine Similarity\")\n",
    "plt.legend()"
   ]
  },
  {
   "cell_type": "markdown",
   "metadata": {},
   "source": [
    "# Get list of duplicates (to be dropped)"
   ]
  },
  {
   "cell_type": "code",
   "execution_count": 37,
   "metadata": {},
   "outputs": [
    {
     "name": "stdout",
     "output_type": "stream",
     "text": [
      "2742\n"
     ]
    }
   ],
   "source": [
    "threshold = 0.13\n",
    "similars_dict = collection_dict[str(threshold)]\n",
    "to_be_dropped = set()\n",
    "for key, values in similars_dict.items():\n",
    "    if key in to_be_dropped:\n",
    "        continue\n",
    "    for value in values:\n",
    "        to_be_dropped.add(value)\n",
    "\n",
    "print(len(to_be_dropped))\n",
    "\n",
    "# save it to txt_file\n",
    "# with open(f\"duplicates_{str(threshold)}.txt\", \"w\") as f:\n",
    "#     f.write(\",\".join(map(str, to_be_dropped)))\n",
    "\n",
    "# read from txt file\n",
    "# with open(f\"duplicates_{str(threshold)}.txt\", \"r\") as f:\n",
    "#     to_be_dropped = set(map(int, f.read().split(\",\")))"
   ]
  }
 ],
 "metadata": {
  "kernelspec": {
   "display_name": "LEGO",
   "language": "python",
   "name": "python3"
  },
  "language_info": {
   "codemirror_mode": {
    "name": "ipython",
    "version": 3
   },
   "file_extension": ".py",
   "mimetype": "text/x-python",
   "name": "python",
   "nbconvert_exporter": "python",
   "pygments_lexer": "ipython3",
   "version": "3.12.4"
  }
 },
 "nbformat": 4,
 "nbformat_minor": 2
}
