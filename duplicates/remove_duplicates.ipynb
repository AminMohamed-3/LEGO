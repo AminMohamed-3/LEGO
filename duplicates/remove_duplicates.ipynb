{
 "cells": [
  {
   "cell_type": "code",
   "execution_count": 2,
   "metadata": {},
   "outputs": [],
   "source": [
    "import chromadb\n",
    "from datasets import load_dataset\n",
    "from tqdm import tqdm\n",
    "import sys\n",
    "import json\n",
    "from dataset_embeddings import get_embeddings, get_similars\n",
    "import yaml\n",
    "import os\n",
    "\n",
    "tqdm.pandas()\n",
    "sys.path.append(\"../..\")\n",
    "\n",
    "with open(\"../config.yaml\", \"r\") as f:\n",
    "    config = yaml.safe_load(f)\n",
    "RANDOM_SEED = config[\"RANDOM_SEED\"]"
   ]
  },
  {
   "cell_type": "markdown",
   "metadata": {},
   "source": [
    "# Create a database for embeddings"
   ]
  },
  {
   "cell_type": "code",
   "execution_count": 4,
   "metadata": {},
   "outputs": [],
   "source": [
    "chroma_client = chromadb.PersistentClient(\"db/\")\n",
    "collection = chroma_client.get_or_create_collection(\n",
    "    name=\"goemotions_train\", metadata={\"hnsw:space\": \"cosine\"}\n",
    ")"
   ]
  },
  {
   "cell_type": "code",
   "execution_count": 6,
   "metadata": {},
   "outputs": [
    {
     "name": "stderr",
     "output_type": "stream",
     "text": [
      "100%|██████████| 43410/43410 [00:01<00:00, 33468.52it/s]\n"
     ]
    }
   ],
   "source": [
    "dataset = load_dataset(\n",
    "    \"go_emotions\", \"simplified\"\n",
    ")\n",
    "dataset.set_format(type=\"pandas\")\n",
    "df_train = dataset[\"train\"][:]\n",
    "\n",
    "int2label = lambda x: dataset[\"train\"].features[\"labels\"].feature.int2str(x)\n",
    "df_train[\"labels_text\"] = df_train[\"labels\"].progress_apply(int2label)"
   ]
  },
  {
   "cell_type": "code",
   "execution_count": 29,
   "metadata": {},
   "outputs": [],
   "source": [
    "# # # Extract Duplicates\n",
    "# similars_dict = {}\n",
    "# for i in tqdm(range(len(df_train))):\n",
    "#     results = get_similars(df_train, collection, idx=i, n_results=5)\n",
    "#     distances = [r[\"distance\"] for r in results]\n",
    "#     # any distance < 0.15 is considered similar, add it to the similars_dict with key i\n",
    "#     results_list = [r[\"idx\"] for r in results[1:] if r[\"distance\"] < 0.15]\n",
    "#     if results_list:\n",
    "#         similars_dict[i] = results_list"
   ]
  },
  {
   "cell_type": "code",
   "execution_count": 61,
   "metadata": {},
   "outputs": [],
   "source": [
    "# save similar_dicts into similars.json\n",
    "\n",
    "# Assuming similar_dicts is your dictionary\n",
    "with open(\"similars.json\", \"r\") as f:\n",
    "    similars_dict = json.load(f)\n",
    "\n",
    "# convert keys to ints\n",
    "similars_dict = {int(k): v for k, v in similars_dict.items()}\n",
    "similars_dict_copy = similars_dict.copy()"
   ]
  },
  {
   "cell_type": "code",
   "execution_count": 62,
   "metadata": {},
   "outputs": [
    {
     "name": "stdout",
     "output_type": "stream",
     "text": [
      "2275\n"
     ]
    }
   ],
   "source": [
    "to_be_dropped = set()\n",
    "for key, values in similars_dict_copy.items():\n",
    "    if key in to_be_dropped:\n",
    "        continue\n",
    "    for value in values:\n",
    "        to_be_dropped.add(value)\n",
    "\n",
    "print(len(to_be_dropped))"
   ]
  },
  {
   "cell_type": "code",
   "execution_count": 69,
   "metadata": {},
   "outputs": [],
   "source": [
    "# save it to txt_file\n",
    "with open(\"duplicates_cosine_n5_th15.txt\", \"w\") as f:\n",
    "    f.write(\",\".join(map(str, to_be_dropped)))"
   ]
  },
  {
   "cell_type": "code",
   "execution_count": 70,
   "metadata": {},
   "outputs": [],
   "source": [
    "# read from txt_file\n",
    "with open(\"duplicates_cosine_n5_th15.txt\", \"r\") as f:\n",
    "    to_be_dropped = set(map(int, f.read().split(\",\")))"
   ]
  },
  {
   "cell_type": "code",
   "execution_count": 72,
   "metadata": {},
   "outputs": [
    {
     "data": {
      "text/plain": [
       "DatasetDict({\n",
       "    train: Dataset({\n",
       "        features: ['text', 'labels', 'id'],\n",
       "        num_rows: 43410\n",
       "    })\n",
       "    validation: Dataset({\n",
       "        features: ['text', 'labels', 'id'],\n",
       "        num_rows: 5426\n",
       "    })\n",
       "    test: Dataset({\n",
       "        features: ['text', 'labels', 'id'],\n",
       "        num_rows: 5427\n",
       "    })\n",
       "})"
      ]
     },
     "execution_count": 72,
     "metadata": {},
     "output_type": "execute_result"
    }
   ],
   "source": [
    "dataset"
   ]
  },
  {
   "cell_type": "code",
   "execution_count": 74,
   "metadata": {},
   "outputs": [],
   "source": [
    "from datasets import Dataset"
   ]
  },
  {
   "cell_type": "code",
   "execution_count": 75,
   "metadata": {},
   "outputs": [],
   "source": [
    "# dataset.set_format(type=\"pandas\")\n",
    "# df_train = dataset[\"train\"][:]\n",
    "# df_train = df_train.drop(to_be_dropped)\n",
    "dataset[\"train\"] = Dataset.from_pandas(df_train)"
   ]
  },
  {
   "cell_type": "code",
   "execution_count": 76,
   "metadata": {},
   "outputs": [
    {
     "data": {
      "text/plain": [
       "DatasetDict({\n",
       "    train: Dataset({\n",
       "        features: ['text', 'labels', 'id', 'labels_text', '__index_level_0__'],\n",
       "        num_rows: 41135\n",
       "    })\n",
       "    validation: Dataset({\n",
       "        features: ['text', 'labels', 'id'],\n",
       "        num_rows: 5426\n",
       "    })\n",
       "    test: Dataset({\n",
       "        features: ['text', 'labels', 'id'],\n",
       "        num_rows: 5427\n",
       "    })\n",
       "})"
      ]
     },
     "execution_count": 76,
     "metadata": {},
     "output_type": "execute_result"
    }
   ],
   "source": [
    "dataset"
   ]
  }
 ],
 "metadata": {
  "kernelspec": {
   "display_name": "main",
   "language": "python",
   "name": "python3"
  },
  "language_info": {
   "codemirror_mode": {
    "name": "ipython",
    "version": 3
   },
   "file_extension": ".py",
   "mimetype": "text/x-python",
   "name": "python",
   "nbconvert_exporter": "python",
   "pygments_lexer": "ipython3",
   "version": "3.12.4"
  }
 },
 "nbformat": 4,
 "nbformat_minor": 2
}
