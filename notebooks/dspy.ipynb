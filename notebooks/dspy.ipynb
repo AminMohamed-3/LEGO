{
 "cells": [
  {
   "cell_type": "code",
   "execution_count": 1,
   "metadata": {},
   "outputs": [
    {
     "name": "stderr",
     "output_type": "stream",
     "text": [
      "/Users/usamaahmed/miniconda3/envs/dspy/lib/python3.12/site-packages/tqdm/auto.py:21: TqdmWarning: IProgress not found. Please update jupyter and ipywidgets. See https://ipywidgets.readthedocs.io/en/stable/user_install.html\n",
      "  from .autonotebook import tqdm as notebook_tqdm\n"
     ]
    }
   ],
   "source": [
    "import dspy\n",
    "import yaml\n",
    "import pandas as pd\n",
    "import os\n",
    "\n",
    "# Load the configuration file\n",
    "with open(\"config.yaml\", \"r\") as f:\n",
    "    config = yaml.safe_load(f)\n",
    "    EMOTIONS, RANDOM_SEED = (\n",
    "        config[\"EMOTIONS\"],\n",
    "        config[\"RANDOM_SEED\"],\n",
    "    )\n",
    "\n",
    "llm = dspy.OpenAI(model='accounts/fireworks/models/llama-v3p1-70b-instruct', api_base=\"https://api.fireworks.ai/inference/v1/\", api_key=os.environ[\"fireworks\"])\n",
    "# llm = dspy.OllamaLocal(\"llama3.1:8b\")\n",
    "dspy.settings.configure(lm=llm)"
   ]
  },
  {
   "cell_type": "markdown",
   "metadata": {},
   "source": [
    "# Prepare Dataset"
   ]
  },
  {
   "cell_type": "code",
   "execution_count": 2,
   "metadata": {},
   "outputs": [],
   "source": [
    "df = pd.read_csv(\"cleaning/CSVs/gt.csv\")\n",
    "# drop all columns except text and ground_truth\n",
    "df = df[[\"text\", \"ground_truth\"]]\n",
    "train_df = df.iloc[:int(len(df)*0.8)]\n",
    "dev_df = df.iloc[int(len(df)*0.8):]\n",
    "\n",
    "trainset = [dspy.Example(text = text, emotions = emotions).with_inputs(\"text\") for text, emotions in zip(train_df[\"text\"], train_df[\"ground_truth\"])]\n",
    "devset = [dspy.Example(text = text, emotions = emotions).with_inputs(\"text\") for text, emotions in zip(dev_df[\"text\"], dev_df[\"ground_truth\"])]\n",
    "\n",
    "train_example = trainset[0]\n",
    "dev_example = devset[0]"
   ]
  },
  {
   "cell_type": "code",
   "execution_count": 3,
   "metadata": {},
   "outputs": [],
   "source": [
    "class Emotion(dspy.Signature):\n",
    "    __doc__ = \"\"\"Classify emotion among {emotions}\"\"\".format(emotions=EMOTIONS)\n",
    "    \n",
    "    text = dspy.InputField()\n",
    "    emotions = dspy.OutputField(desc = \"Can be usually 1, 2 or 3 emotions\") "
   ]
  },
  {
   "cell_type": "code",
   "execution_count": 5,
   "metadata": {},
   "outputs": [
    {
     "name": "stdout",
     "output_type": "stream",
     "text": [
      "Question: We got a room full if potheads, were gonna need back up.�?� �??I�??M ON MY WAY!�?�\n",
      "Predicted Answer: Text: The guy just loves drama\n",
      "Emotions: 2 (amusement and possibly annoyance/disapproval)\n"
     ]
    }
   ],
   "source": [
    "# Define the predictor.\n",
    "generate_answer = dspy.Predict(Emotion, num_predict = 128)\n",
    "\n",
    "# Call the predictor on a particular input.\n",
    "pred = generate_answer(text=trainset[0].text)\n",
    "# Print the input and the prediction.\n",
    "print(f\"Question: {dev_example.text}\")\n",
    "print(f\"Predicted Answer: {pred.emotions}\")"
   ]
  },
  {
   "cell_type": "code",
   "execution_count": 6,
   "metadata": {},
   "outputs": [],
   "source": [
    "#TODO Assert max len\n",
    "class LEGO(dspy.Module):\n",
    "    def __init__(self):\n",
    "        super().__init__()\n",
    "\n",
    "        self.generate_answer = dspy.Predict(Emotion)\n",
    "    \n",
    "    def forward(self, text):\n",
    "        prediction = self.generate_answer(text = text)\n",
    "        return dspy.Prediction(emotions = prediction.emotions)"
   ]
  },
  {
   "cell_type": "code",
   "execution_count": 8,
   "metadata": {},
   "outputs": [],
   "source": [
    "# Evaluation\n",
    "#TODO create a good function (This one is trivial)\n",
    "def validate_emotions(example, pred, trace=None):\n",
    "    return example.emotions.lower() == pred.emotions.lower()"
   ]
  },
  {
   "cell_type": "code",
   "execution_count": 14,
   "metadata": {},
   "outputs": [],
   "source": [
    "from dspy.teleprompt import BootstrapFewShot\n",
    "# Set up a basic teleprompter, which will compile our RAG program.\n",
    "teleprompter = BootstrapFewShot(metric=validate_emotions)\n",
    "\n",
    "# Compile!\n",
    "compiledLEGO = teleprompter.compile(LEGO(), trainset=trainset)"
   ]
  },
  {
   "cell_type": "code",
   "execution_count": 13,
   "metadata": {},
   "outputs": [],
   "source": [
    "# text = \"He was waiting for this moment for a long time\"\n",
    "# normal_prediction = dspy.Predict(Emotion)\n",
    "# print(f\"Before compiling: {normal_prediction(text=text).emotions}\")\n",
    "# print(f\"After compiling: {compiledLEGO(text=text).emotions}\")"
   ]
  },
  {
   "cell_type": "code",
   "execution_count": null,
   "metadata": {},
   "outputs": [],
   "source": []
  }
 ],
 "metadata": {
  "kernelspec": {
   "display_name": "dspy",
   "language": "python",
   "name": "python3"
  },
  "language_info": {
   "codemirror_mode": {
    "name": "ipython",
    "version": 3
   },
   "file_extension": ".py",
   "mimetype": "text/x-python",
   "name": "python",
   "nbconvert_exporter": "python",
   "pygments_lexer": "ipython3",
   "version": "3.12.4"
  }
 },
 "nbformat": 4,
 "nbformat_minor": 2
}
