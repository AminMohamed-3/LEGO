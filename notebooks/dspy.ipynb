{
 "cells": [
  {
   "cell_type": "code",
   "execution_count": 3,
   "metadata": {},
   "outputs": [],
   "source": [
    "import dspy\n",
    "import yaml\n",
    "import pandas as pd\n",
    "import os\n",
    "\n",
    "# Load the configuration file\n",
    "with open(\"../config.yaml\", \"r\") as f:\n",
    "    config = yaml.safe_load(f)\n",
    "    EMOTIONS, RANDOM_SEED = (\n",
    "        config[\"EMOTIONS\"],\n",
    "        config[\"RANDOM_SEED\"],\n",
    "    )\n",
    "\n",
    "llm = dspy.OpenAI(model='accounts/fireworks/models/llama-v3p1-70b-instruct', api_base=\"https://api.fireworks.ai/inference/v1/\", api_key=os.environ[\"fireworks\"])\n",
    "# llm = dspy.OllamaLocal(\"llama3.1:8b\")\n",
    "dspy.settings.configure(lm=llm)"
   ]
  },
  {
   "cell_type": "code",
   "execution_count": 17,
   "metadata": {},
   "outputs": [],
   "source": [
    "# Remove neutral from emotions \n",
    "EMOTIONS = [e for e in EMOTIONS if e != \"neutral\"]"
   ]
  },
  {
   "cell_type": "markdown",
   "metadata": {},
   "source": [
    "# Prepare Dataset"
   ]
  },
  {
   "cell_type": "code",
   "execution_count": 5,
   "metadata": {},
   "outputs": [],
   "source": [
    "df = pd.read_csv(\"../cleaning/CSVs/gt.csv\")\n",
    "# drop all columns except text and ground_truth\n",
    "df = df[[\"text\", \"ground_truth\"]]\n",
    "train_df = df.iloc[:int(len(df)*0.8)]\n",
    "dev_df = df.iloc[int(len(df)*0.8):]\n",
    "\n",
    "trainset = [dspy.Example(text = text, emotions = emotions).with_inputs(\"text\") for text, emotions in zip(train_df[\"text\"], train_df[\"ground_truth\"])]\n",
    "devset = [dspy.Example(text = text, emotions = emotions).with_inputs(\"text\") for text, emotions in zip(dev_df[\"text\"], dev_df[\"ground_truth\"])]\n",
    "\n",
    "train_example = trainset[0]\n",
    "dev_example = devset[0]"
   ]
  },
  {
   "cell_type": "code",
   "execution_count": 18,
   "metadata": {},
   "outputs": [],
   "source": [
    "class Emotion(dspy.Signature):\n",
    "    \"\"\"Make a multilabel prediction of the emotion(s) in the text\"\"\"\n",
    "    \n",
    "    text = dspy.InputField(desc=\"The text to be classified, context should be implicitly assumed if not explicitly stated\")\n",
    "    emotions = dspy.OutputField(desc = f\"Can be any number of emotions, or otherwise only neutral. Has to be from those emotions: {EMOTIONS}\") "
   ]
  },
  {
   "cell_type": "code",
   "execution_count": 24,
   "metadata": {},
   "outputs": [
    {
     "name": "stdout",
     "output_type": "stream",
     "text": [
      "Question: A few years ago a lot of shows tried to do a �??second screen experience�?�. It didn�??t work and died a quiet death.\n",
      "Predicted Answer: disappointment, disapproval, annoyance\n"
     ]
    }
   ],
   "source": [
    "# Define the predictor.\n",
    "generate_answer = dspy.Predict(Emotion)\n",
    "train_example = trainset[5].text\n",
    "# Call the predictor on a particular input.\n",
    "pred = generate_answer(text=train_example)\n",
    "# Print the input and the prediction.\n",
    "print(f\"Question: {train_example}\")\n",
    "print(f\"Predicted Answer: {pred.emotions}\")"
   ]
  },
  {
   "cell_type": "code",
   "execution_count": 32,
   "metadata": {},
   "outputs": [],
   "source": [
    "#TODO Assert max len\n",
    "class LEGO(dspy.Module):\n",
    "    def __init__(self):\n",
    "        super().__init__()\n",
    "\n",
    "        self.generate_answer = dspy.ChainOfThought(Emotion)\n",
    "    \n",
    "    def forward(self, text):\n",
    "        prediction = self.generate_answer(text = text)\n",
    "        return dspy.Prediction(emotions = prediction.emotions)"
   ]
  },
  {
   "cell_type": "code",
   "execution_count": 33,
   "metadata": {},
   "outputs": [],
   "source": [
    "# Evaluation\n",
    "#TODO create a good function (This one is trivial)\n",
    "def validate_emotions(example, pred, trace=None):\n",
    "    return example.emotions.lower() == pred.emotions.lower()"
   ]
  },
  {
   "cell_type": "code",
   "execution_count": 27,
   "metadata": {},
   "outputs": [
    {
     "name": "stderr",
     "output_type": "stream",
     "text": [
      "100%|██████████| 160/160 [05:40<00:00,  2.13s/it]"
     ]
    },
    {
     "name": "stdout",
     "output_type": "stream",
     "text": [
      "Bootstrapped 0 full traces after 160 examples in round 0.\n"
     ]
    },
    {
     "name": "stderr",
     "output_type": "stream",
     "text": [
      "\n"
     ]
    }
   ],
   "source": [
    "from dspy.teleprompt import BootstrapFewShot\n",
    "# Set up a basic teleprompter, which will compile our RAG program.\n",
    "teleprompter = BootstrapFewShot(metric=validate_emotions)\n",
    "\n",
    "# Compile!\n",
    "compiledLEGO = teleprompter.compile(LEGO(), trainset=trainset)"
   ]
  },
  {
   "cell_type": "code",
   "execution_count": 37,
   "metadata": {},
   "outputs": [
    {
     "name": "stdout",
     "output_type": "stream",
     "text": [
      "Before compiling: excitement, anticipation, nervousness\n"
     ]
    }
   ],
   "source": [
    "test_text = \"He was waiting for this moment for a long time\"\n",
    "normal_prediction = dspy.Predict(Emotion)\n",
    "print(f\"Before compiling: {normal_prediction(text=test_text).emotions}\")\n",
    "#print(f\"After compiling: {compiledLEGO(text=test_text).emotions}\")"
   ]
  },
  {
   "cell_type": "code",
   "execution_count": 36,
   "metadata": {},
   "outputs": [
    {
     "name": "stdout",
     "output_type": "stream",
     "text": [
      "\n",
      "\n",
      "\n",
      "\n",
      "Make a multilabel prediction of the emotion(s) in the text\n",
      "\n",
      "---\n",
      "\n",
      "Follow the following format.\n",
      "\n",
      "Text: The text to be classified, context should be implicitly assumed if not explicitly stated\n",
      "Reasoning: Let's think step by step in order to ${produce the emotions}. We ...\n",
      "Emotions: Can be any number of emotions, or otherwise only neutral. Has to be from those emotions: ['admiration', 'amusement', 'anger', 'annoyance', 'approval', 'caring', 'confusion', 'curiosity', 'desire', 'disappointment', 'disapproval', 'disgust', 'embarrassment', 'excitement', 'fear', 'gratitude', 'grief', 'joy', 'love', 'nervousness', 'optimism', 'pride', 'realization', 'relief', 'remorse', 'sadness', 'surprise']\n",
      "\n",
      "---\n",
      "\n",
      "Text: He was waiting for this moment for a long time\n",
      "Reasoning: Let's think step by step in order to\u001b[32m produce the emotions. We can start by looking at the phrase \"waiting for this moment\". This phrase implies anticipation and expectation. The fact that he was waiting for a long time suggests that this moment is significant to him. Therefore, it is likely that he is feeling a positive emotion. The phrase \"for a long time\" also implies that he has been looking forward to this moment, which suggests excitement and eagerness. \n",
      "Emotions: ['excitement', 'anticipation']\u001b[0m\n",
      "\n",
      "\n",
      "\n"
     ]
    }
   ],
   "source": [
    "llm.inspect_history(n=1)"
   ]
  },
  {
   "cell_type": "code",
   "execution_count": null,
   "metadata": {},
   "outputs": [],
   "source": []
  }
 ],
 "metadata": {
  "kernelspec": {
   "display_name": "dspy",
   "language": "python",
   "name": "python3"
  },
  "language_info": {
   "codemirror_mode": {
    "name": "ipython",
    "version": 3
   },
   "file_extension": ".py",
   "mimetype": "text/x-python",
   "name": "python",
   "nbconvert_exporter": "python",
   "pygments_lexer": "ipython3",
   "version": "3.12.2"
  }
 },
 "nbformat": 4,
 "nbformat_minor": 2
}
